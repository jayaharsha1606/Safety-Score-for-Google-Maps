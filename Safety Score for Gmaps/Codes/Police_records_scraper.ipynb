{
 "cells": [
  {
   "cell_type": "code",
   "execution_count": 1,
   "metadata": {},
   "outputs": [],
   "source": [
    "import pandas as pd\n",
    "import numpy as np\n",
    "from bs4 import BeautifulSoup"
   ]
  },
  {
   "cell_type": "code",
   "execution_count": 4,
   "metadata": {},
   "outputs": [
    {
     "name": "stdout",
     "output_type": "stream",
     "text": [
      "['/', 'https://www.boston.gov/', '/user/login', '/showcase', 'https://www.boston.gov/news?title=&field_contact_target_id%5B%5D=1691&field_published_date_value%5Bmin%5D%5Bdate%5D=&field_published_date_value%5Bmax%5D%5Bdate%5D=', '/dataset', '/organization', '/group', '/pages/ckan-training-videos', '/about', '/contact', '#content', '/', 'https://www.boston.gov/', '/dataset', 'https://www.boston.gov/news?title=&field_contact_target_id%5B%5D=1691&field_published_date_value%5Bmin%5D%5Bdate%5D=&field_published_date_value%5Bmax%5D%5Bdate%5D=', '/pages/ckan-training-videos', '/user/login', '/contact', '/', '/organization', '/organization/boston-police-department-org', '/dataset/crime-incident-reports-august-2015-to-date-source-new-system', '/dataset/crime-incident-reports-august-2015-to-date-source-new-system', '/dataset/groups/crime-incident-reports-august-2015-to-date-source-new-system', '/dataset/activity/crime-incident-reports-august-2015-to-date-source-new-system', '/dataset/showcases/crime-incident-reports-august-2015-to-date-source-new-system', 'https://malegislature.gov/laws/generallaws/parti/titlevii/chapter41/section98f', '/dataset/crime-incident-reports-august-2015-to-date-source-new-system/resource/313e56df-6d77-49d2-9c49-ee411f10cf58', '/dataset/crime-incident-reports-august-2015-to-date-source-new-system/resource/313e56df-6d77-49d2-9c49-ee411f10cf58', 'https://data.boston.gov/dataset/6220d948-eae2-4e4b-8723-2dc8e67722a3/resource/313e56df-6d77-49d2-9c49-ee411f10cf58/download/tmp50af5vi2.csv', '/dataset/crime-incident-reports-august-2015-to-date-source-new-system/resource/f4495ee9-c42c-4019-82c1-d067f07e45d2', '/dataset/crime-incident-reports-august-2015-to-date-source-new-system/resource/f4495ee9-c42c-4019-82c1-d067f07e45d2', 'https://data.boston.gov/dataset/6220d948-eae2-4e4b-8723-2dc8e67722a3/resource/f4495ee9-c42c-4019-82c1-d067f07e45d2/download/tmp7_f32p54.csv', '/dataset/crime-incident-reports-august-2015-to-date-source-new-system/resource/be047094-85fe-4104-a480-4fa3d03f9623', '/dataset/crime-incident-reports-august-2015-to-date-source-new-system/resource/be047094-85fe-4104-a480-4fa3d03f9623', 'https://data.boston.gov/dataset/6220d948-eae2-4e4b-8723-2dc8e67722a3/resource/be047094-85fe-4104-a480-4fa3d03f9623/download/script_113631134_20210423193017_combine.csv', '/dataset/crime-incident-reports-august-2015-to-date-source-new-system/resource/34e0ae6b-8c94-4998-ae9e-1b51551fe9ba', '/dataset/crime-incident-reports-august-2015-to-date-source-new-system/resource/34e0ae6b-8c94-4998-ae9e-1b51551fe9ba', 'https://data.boston.gov/dataset/6220d948-eae2-4e4b-8723-2dc8e67722a3/resource/34e0ae6b-8c94-4998-ae9e-1b51551fe9ba/download/tmp9mkqyv6b.csv', '/dataset/crime-incident-reports-august-2015-to-date-source-new-system/resource/e86f8e38-a23c-4c1a-8455-c8f94210a8f1', '/dataset/crime-incident-reports-august-2015-to-date-source-new-system/resource/e86f8e38-a23c-4c1a-8455-c8f94210a8f1', 'https://data.boston.gov/dataset/6220d948-eae2-4e4b-8723-2dc8e67722a3/resource/e86f8e38-a23c-4c1a-8455-c8f94210a8f1/download/crime-incident-reports-2018.csv', '/dataset/crime-incident-reports-august-2015-to-date-source-new-system/resource/64ad0053-842c-459b-9833-ff53d568f2e3', '/dataset/crime-incident-reports-august-2015-to-date-source-new-system/resource/64ad0053-842c-459b-9833-ff53d568f2e3', 'https://data.boston.gov/dataset/6220d948-eae2-4e4b-8723-2dc8e67722a3/resource/64ad0053-842c-459b-9833-ff53d568f2e3/download/crime-incident-reports-2017.csv', '/dataset/crime-incident-reports-august-2015-to-date-source-new-system/resource/b6c4e2c3-7b1e-4f4a-b019-bef8c6a0e882', '/dataset/crime-incident-reports-august-2015-to-date-source-new-system/resource/b6c4e2c3-7b1e-4f4a-b019-bef8c6a0e882', 'https://data.boston.gov/dataset/6220d948-eae2-4e4b-8723-2dc8e67722a3/resource/b6c4e2c3-7b1e-4f4a-b019-bef8c6a0e882/download/crime-incident-reports-2016.csv', '/dataset/crime-incident-reports-august-2015-to-date-source-new-system/resource/792031bf-b9bb-467c-b118-fe795befdf00', '/dataset/crime-incident-reports-august-2015-to-date-source-new-system/resource/792031bf-b9bb-467c-b118-fe795befdf00', 'https://data.boston.gov/dataset/6220d948-eae2-4e4b-8723-2dc8e67722a3/resource/792031bf-b9bb-467c-b118-fe795befdf00/download/crime-incident-reports-2015.csv', '/dataset/crime-incident-reports-august-2015-to-date-source-new-system/resource/9c30453a-fefa-4fe0-b51a-5fc09b0f4655', '/dataset/crime-incident-reports-august-2015-to-date-source-new-system/resource/9c30453a-fefa-4fe0-b51a-5fc09b0f4655', 'https://data.boston.gov/dataset/6220d948-eae2-4e4b-8723-2dc8e67722a3/resource/9c30453a-fefa-4fe0-b51a-5fc09b0f4655/download/rmscrimeincidentfieldexplanation.xlsx', '/dataset/crime-incident-reports-august-2015-to-date-source-new-system/resource/3aeccf51-a231-4555-ba21-74572b4c33d6', '/dataset/crime-incident-reports-august-2015-to-date-source-new-system/resource/3aeccf51-a231-4555-ba21-74572b4c33d6', 'https://data.boston.gov/dataset/6220d948-eae2-4e4b-8723-2dc8e67722a3/resource/3aeccf51-a231-4555-ba21-74572b4c33d6/download/rmsoffensecodes.xlsx', '/dataset?tags=crime', '/dataset?tags=incidents', '/dataset?tags=police', '/dataset?tags=safety', 'https://malegislature.gov/laws/generallaws/parti/titlevii/chapter41/section98f', '/cdn-cgi/l/email-protection#305d5554595142555c5144595f5e437040541e525f43445f5e1e575f46', '/organization/boston-police-department-org', '/organization/about/boston-police-department-org', 'https://twitter.com/share?url=https://data.boston.gov/dataset/crime-incident-reports-august-2015-to-date-source-new-system', 'https://www.facebook.com/sharer.php?u=https://data.boston.gov/dataset/crime-incident-reports-august-2015-to-date-source-new-system', '/about', 'https://www.boston.gov/departments/mayors-office/michelle-wu', '/docs/api/index.html', 'https://www.boston.gov/departments/analytics-team', 'https://www.boston.gov/departments/innovation-and-technology', '/pages/ckan-training-videos', 'http://www.cityofboston.gov/copyright/privacyandsecurity.asp', '/pages/glossary', '/contact', 'https://docs.google.com/forms/d/e/1FAIpQLSdOvF55BUFHSI92diqvb-uv0Sbi3VJJcLhNMW4FxFz_Du_ABg/viewform', 'https://opengov.com/?utm_campaign=Footer-Product-OpenData&utm_source=OpenGov&utm_medium=product&utm_term=PO-OGOV-1274&utm_content=logo', 'http://ckan.org']\n"
     ]
    }
   ],
   "source": [
    "from urllib.request import Request, urlopen\n",
    "import re\n",
    "\n",
    "req = Request(\"https://data.boston.gov/dataset/crime-incident-reports-august-2015-to-date-source-new-system\")\n",
    "html_page = urlopen(req)\n",
    "\n",
    "soup = BeautifulSoup(html_page, \"lxml\")\n",
    "\n",
    "links = []\n",
    "for link in soup.findAll('a'):\n",
    "    links.append(link.get('href'))\n",
    "\n",
    "print(links)\n",
    "\n",
    "#soup = BeautifulSoup('')"
   ]
  },
  {
   "cell_type": "code",
   "execution_count": 11,
   "metadata": {},
   "outputs": [
    {
     "name": "stderr",
     "output_type": "stream",
     "text": [
      "C:\\ProgramData\\Anaconda3\\lib\\site-packages\\IPython\\core\\interactiveshell.py:2785: DtypeWarning: Columns (0) have mixed types.Specify dtype option on import or set low_memory=False.\n",
      "  interactivity=interactivity, compiler=compiler, result=result)\n"
     ]
    }
   ],
   "source": [
    "df = pd.DataFrame()\n",
    "for i in links:\n",
    "    if 'csv' in i:\n",
    "        df = df.append([df,pd.read_csv(i)])"
   ]
  },
  {
   "cell_type": "code",
   "execution_count": 31,
   "metadata": {},
   "outputs": [
    {
     "data": {
      "text/plain": [
       "WASHINGTON ST     36103\n",
       "BLUE HILL AVE     26548\n",
       "W BROADWAY        21305\n",
       "HANCOCK ST        16696\n",
       "SOUTHAMPTON ST    10802\n",
       "                  ...  \n",
       "LEDGEBROOK RD         1\n",
       "LAMARTINE TER         1\n",
       "MOUNT HOPE ST         1\n",
       "PEARL ST              1\n",
       "BLOSSOM ST            1\n",
       "Name: STREET, Length: 2737, dtype: int64"
      ]
     },
     "execution_count": 31,
     "metadata": {},
     "output_type": "execute_result"
    }
   ],
   "source": [
    "df[(df['OFFENSE_DESCRIPTION'].str.contains('DRUGS'))]['STREET'].value_counts()"
   ]
  },
  {
   "cell_type": "code",
   "execution_count": 35,
   "metadata": {},
   "outputs": [],
   "source": [
    "df.to_csv('Boston_crimes_data.csv')"
   ]
  },
  {
   "cell_type": "code",
   "execution_count": 29,
   "metadata": {},
   "outputs": [
    {
     "data": {
      "text/html": [
       "<div>\n",
       "<style scoped>\n",
       "    .dataframe tbody tr th:only-of-type {\n",
       "        vertical-align: middle;\n",
       "    }\n",
       "\n",
       "    .dataframe tbody tr th {\n",
       "        vertical-align: top;\n",
       "    }\n",
       "\n",
       "    .dataframe thead th {\n",
       "        text-align: right;\n",
       "    }\n",
       "</style>\n",
       "<table border=\"1\" class=\"dataframe\">\n",
       "  <thead>\n",
       "    <tr style=\"text-align: right;\">\n",
       "      <th></th>\n",
       "      <th>INCIDENT_NUMBER</th>\n",
       "      <th>OFFENSE_CODE</th>\n",
       "      <th>OFFENSE_CODE_GROUP</th>\n",
       "      <th>OFFENSE_DESCRIPTION</th>\n",
       "      <th>DISTRICT</th>\n",
       "      <th>REPORTING_AREA</th>\n",
       "      <th>SHOOTING</th>\n",
       "      <th>OCCURRED_ON_DATE</th>\n",
       "      <th>YEAR</th>\n",
       "      <th>MONTH</th>\n",
       "      <th>DAY_OF_WEEK</th>\n",
       "      <th>HOUR</th>\n",
       "      <th>UCR_PART</th>\n",
       "      <th>STREET</th>\n",
       "      <th>Lat</th>\n",
       "      <th>Long</th>\n",
       "      <th>Location</th>\n",
       "    </tr>\n",
       "  </thead>\n",
       "  <tbody>\n",
       "    <tr>\n",
       "      <th>19</th>\n",
       "      <td>222094667</td>\n",
       "      <td>1810</td>\n",
       "      <td>NaN</td>\n",
       "      <td>DRUGS - POSSESSION/ SALE/ MANUFACTURING/ USE</td>\n",
       "      <td>D4</td>\n",
       "      <td>150</td>\n",
       "      <td>0</td>\n",
       "      <td>2022-06-24 00:00:00</td>\n",
       "      <td>2022</td>\n",
       "      <td>6</td>\n",
       "      <td>Friday</td>\n",
       "      <td>0</td>\n",
       "      <td>NaN</td>\n",
       "      <td>COLUMBUS AVE</td>\n",
       "      <td>42.345635</td>\n",
       "      <td>-71.075554</td>\n",
       "      <td>(42.34563477312553, -71.07555366997444)</td>\n",
       "    </tr>\n",
       "    <tr>\n",
       "      <th>48</th>\n",
       "      <td>222082233</td>\n",
       "      <td>1810</td>\n",
       "      <td>NaN</td>\n",
       "      <td>DRUGS - POSSESSION/ SALE/ MANUFACTURING/ USE</td>\n",
       "      <td>A7</td>\n",
       "      <td></td>\n",
       "      <td>0</td>\n",
       "      <td>2022-10-24 19:20:00</td>\n",
       "      <td>2022</td>\n",
       "      <td>10</td>\n",
       "      <td>Monday</td>\n",
       "      <td>19</td>\n",
       "      <td>NaN</td>\n",
       "      <td>DRUMLIN RD &amp; SEA VIEW AVE\\nEAST BOSTON  MA 021...</td>\n",
       "      <td>42.390966</td>\n",
       "      <td>-71.006282</td>\n",
       "      <td>(42.39096597337996, -71.0062820377725)</td>\n",
       "    </tr>\n",
       "    <tr>\n",
       "      <th>73</th>\n",
       "      <td>222082189</td>\n",
       "      <td>1810</td>\n",
       "      <td>NaN</td>\n",
       "      <td>DRUGS - POSSESSION/ SALE/ MANUFACTURING/ USE</td>\n",
       "      <td>A1</td>\n",
       "      <td>92</td>\n",
       "      <td>0</td>\n",
       "      <td>2022-10-24 00:00:00</td>\n",
       "      <td>2022</td>\n",
       "      <td>10</td>\n",
       "      <td>Monday</td>\n",
       "      <td>0</td>\n",
       "      <td>NaN</td>\n",
       "      <td>CITY HALL PLZ</td>\n",
       "      <td>42.359721</td>\n",
       "      <td>-71.058524</td>\n",
       "      <td>(42.35972136485405, -71.05852360114129)</td>\n",
       "    </tr>\n",
       "    <tr>\n",
       "      <th>74</th>\n",
       "      <td>222082188</td>\n",
       "      <td>1810</td>\n",
       "      <td>NaN</td>\n",
       "      <td>DRUGS - POSSESSION/ SALE/ MANUFACTURING/ USE</td>\n",
       "      <td>A1</td>\n",
       "      <td></td>\n",
       "      <td>0</td>\n",
       "      <td>2022-10-24 16:50:00</td>\n",
       "      <td>2022</td>\n",
       "      <td>10</td>\n",
       "      <td>Monday</td>\n",
       "      <td>16</td>\n",
       "      <td>NaN</td>\n",
       "      <td>NEW CHARDON ST</td>\n",
       "      <td>42.362607</td>\n",
       "      <td>-71.061327</td>\n",
       "      <td>(42.3626074984039, -71.06132725274803)</td>\n",
       "    </tr>\n",
       "    <tr>\n",
       "      <th>113</th>\n",
       "      <td>222082123</td>\n",
       "      <td>1810</td>\n",
       "      <td>NaN</td>\n",
       "      <td>DRUGS - POSSESSION/ SALE/ MANUFACTURING/ USE</td>\n",
       "      <td>B3</td>\n",
       "      <td>459</td>\n",
       "      <td>0</td>\n",
       "      <td>2022-10-24 12:45:00</td>\n",
       "      <td>2022</td>\n",
       "      <td>10</td>\n",
       "      <td>Monday</td>\n",
       "      <td>12</td>\n",
       "      <td>NaN</td>\n",
       "      <td>FENELON STREET</td>\n",
       "      <td>0.000000</td>\n",
       "      <td>0.000000</td>\n",
       "      <td>(0, 0)</td>\n",
       "    </tr>\n",
       "    <tr>\n",
       "      <th>...</th>\n",
       "      <td>...</td>\n",
       "      <td>...</td>\n",
       "      <td>...</td>\n",
       "      <td>...</td>\n",
       "      <td>...</td>\n",
       "      <td>...</td>\n",
       "      <td>...</td>\n",
       "      <td>...</td>\n",
       "      <td>...</td>\n",
       "      <td>...</td>\n",
       "      <td>...</td>\n",
       "      <td>...</td>\n",
       "      <td>...</td>\n",
       "      <td>...</td>\n",
       "      <td>...</td>\n",
       "      <td>...</td>\n",
       "      <td>...</td>\n",
       "    </tr>\n",
       "    <tr>\n",
       "      <th>53552</th>\n",
       "      <td>I130031413-00</td>\n",
       "      <td>1874</td>\n",
       "      <td>Drug Violation</td>\n",
       "      <td>DRUGS - OTHER</td>\n",
       "      <td>D4</td>\n",
       "      <td>143</td>\n",
       "      <td>NaN</td>\n",
       "      <td>2015-12-22 21:30:00</td>\n",
       "      <td>2015</td>\n",
       "      <td>12</td>\n",
       "      <td>Tuesday</td>\n",
       "      <td>21</td>\n",
       "      <td>Part Two</td>\n",
       "      <td>BOYLSTON ST</td>\n",
       "      <td>42.349325</td>\n",
       "      <td>-71.080148</td>\n",
       "      <td>(42.34932471, -71.08014801)</td>\n",
       "    </tr>\n",
       "    <tr>\n",
       "      <th>53554</th>\n",
       "      <td>I130031413-00</td>\n",
       "      <td>1846</td>\n",
       "      <td>Drug Violation</td>\n",
       "      <td>DRUGS - POSS CLASS E</td>\n",
       "      <td>D4</td>\n",
       "      <td>143</td>\n",
       "      <td>NaN</td>\n",
       "      <td>2015-12-22 21:30:00</td>\n",
       "      <td>2015</td>\n",
       "      <td>12</td>\n",
       "      <td>Tuesday</td>\n",
       "      <td>21</td>\n",
       "      <td>Part Two</td>\n",
       "      <td>BOYLSTON ST</td>\n",
       "      <td>42.349325</td>\n",
       "      <td>-71.080148</td>\n",
       "      <td>(42.34932471, -71.08014801)</td>\n",
       "    </tr>\n",
       "    <tr>\n",
       "      <th>53591</th>\n",
       "      <td>I080542626-00</td>\n",
       "      <td>1849</td>\n",
       "      <td>Drug Violation</td>\n",
       "      <td>DRUGS - POSS CLASS B - COCAINE, ETC.</td>\n",
       "      <td>A1</td>\n",
       "      <td>111</td>\n",
       "      <td>NaN</td>\n",
       "      <td>2015-08-12 12:00:00</td>\n",
       "      <td>2015</td>\n",
       "      <td>8</td>\n",
       "      <td>Wednesday</td>\n",
       "      <td>12</td>\n",
       "      <td>Part Two</td>\n",
       "      <td>BOYLSTON ST</td>\n",
       "      <td>42.352312</td>\n",
       "      <td>-71.063705</td>\n",
       "      <td>(42.35231190, -71.06370510)</td>\n",
       "    </tr>\n",
       "    <tr>\n",
       "      <th>53593</th>\n",
       "      <td>I080542626-00</td>\n",
       "      <td>1848</td>\n",
       "      <td>Drug Violation</td>\n",
       "      <td>DRUGS - POSS CLASS B - INTENT TO MFR DIST DISP</td>\n",
       "      <td>A1</td>\n",
       "      <td>111</td>\n",
       "      <td>NaN</td>\n",
       "      <td>2015-08-12 12:00:00</td>\n",
       "      <td>2015</td>\n",
       "      <td>8</td>\n",
       "      <td>Wednesday</td>\n",
       "      <td>12</td>\n",
       "      <td>Part Two</td>\n",
       "      <td>BOYLSTON ST</td>\n",
       "      <td>42.352312</td>\n",
       "      <td>-71.063705</td>\n",
       "      <td>(42.35231190, -71.06370510)</td>\n",
       "    </tr>\n",
       "    <tr>\n",
       "      <th>53594</th>\n",
       "      <td>I080542626-00</td>\n",
       "      <td>1848</td>\n",
       "      <td>Drug Violation</td>\n",
       "      <td>DRUGS - POSS CLASS B - INTENT TO MFR DIST DISP</td>\n",
       "      <td>A1</td>\n",
       "      <td>111</td>\n",
       "      <td>NaN</td>\n",
       "      <td>2015-08-12 12:00:00</td>\n",
       "      <td>2015</td>\n",
       "      <td>8</td>\n",
       "      <td>Wednesday</td>\n",
       "      <td>12</td>\n",
       "      <td>Part Two</td>\n",
       "      <td>BOYLSTON ST</td>\n",
       "      <td>42.352312</td>\n",
       "      <td>-71.063705</td>\n",
       "      <td>(42.35231190, -71.06370510)</td>\n",
       "    </tr>\n",
       "  </tbody>\n",
       "</table>\n",
       "<p>431237 rows × 17 columns</p>\n",
       "</div>"
      ],
      "text/plain": [
       "      INCIDENT_NUMBER  OFFENSE_CODE OFFENSE_CODE_GROUP  \\\n",
       "19          222094667          1810                NaN   \n",
       "48          222082233          1810                NaN   \n",
       "73          222082189          1810                NaN   \n",
       "74          222082188          1810                NaN   \n",
       "113         222082123          1810                NaN   \n",
       "...               ...           ...                ...   \n",
       "53552   I130031413-00          1874     Drug Violation   \n",
       "53554   I130031413-00          1846     Drug Violation   \n",
       "53591   I080542626-00          1849     Drug Violation   \n",
       "53593   I080542626-00          1848     Drug Violation   \n",
       "53594   I080542626-00          1848     Drug Violation   \n",
       "\n",
       "                                  OFFENSE_DESCRIPTION DISTRICT REPORTING_AREA  \\\n",
       "19       DRUGS - POSSESSION/ SALE/ MANUFACTURING/ USE       D4            150   \n",
       "48       DRUGS - POSSESSION/ SALE/ MANUFACTURING/ USE       A7                  \n",
       "73       DRUGS - POSSESSION/ SALE/ MANUFACTURING/ USE       A1             92   \n",
       "74       DRUGS - POSSESSION/ SALE/ MANUFACTURING/ USE       A1                  \n",
       "113      DRUGS - POSSESSION/ SALE/ MANUFACTURING/ USE       B3            459   \n",
       "...                                               ...      ...            ...   \n",
       "53552                                   DRUGS - OTHER       D4            143   \n",
       "53554                            DRUGS - POSS CLASS E       D4            143   \n",
       "53591            DRUGS - POSS CLASS B - COCAINE, ETC.       A1            111   \n",
       "53593  DRUGS - POSS CLASS B - INTENT TO MFR DIST DISP       A1            111   \n",
       "53594  DRUGS - POSS CLASS B - INTENT TO MFR DIST DISP       A1            111   \n",
       "\n",
       "      SHOOTING     OCCURRED_ON_DATE  YEAR  MONTH DAY_OF_WEEK  HOUR  UCR_PART  \\\n",
       "19           0  2022-06-24 00:00:00  2022      6      Friday     0       NaN   \n",
       "48           0  2022-10-24 19:20:00  2022     10      Monday    19       NaN   \n",
       "73           0  2022-10-24 00:00:00  2022     10      Monday     0       NaN   \n",
       "74           0  2022-10-24 16:50:00  2022     10      Monday    16       NaN   \n",
       "113          0  2022-10-24 12:45:00  2022     10      Monday    12       NaN   \n",
       "...        ...                  ...   ...    ...         ...   ...       ...   \n",
       "53552      NaN  2015-12-22 21:30:00  2015     12     Tuesday    21  Part Two   \n",
       "53554      NaN  2015-12-22 21:30:00  2015     12     Tuesday    21  Part Two   \n",
       "53591      NaN  2015-08-12 12:00:00  2015      8   Wednesday    12  Part Two   \n",
       "53593      NaN  2015-08-12 12:00:00  2015      8   Wednesday    12  Part Two   \n",
       "53594      NaN  2015-08-12 12:00:00  2015      8   Wednesday    12  Part Two   \n",
       "\n",
       "                                                  STREET        Lat  \\\n",
       "19                                          COLUMBUS AVE  42.345635   \n",
       "48     DRUMLIN RD & SEA VIEW AVE\\nEAST BOSTON  MA 021...  42.390966   \n",
       "73                                         CITY HALL PLZ  42.359721   \n",
       "74                                        NEW CHARDON ST  42.362607   \n",
       "113                                       FENELON STREET   0.000000   \n",
       "...                                                  ...        ...   \n",
       "53552                                        BOYLSTON ST  42.349325   \n",
       "53554                                        BOYLSTON ST  42.349325   \n",
       "53591                                        BOYLSTON ST  42.352312   \n",
       "53593                                        BOYLSTON ST  42.352312   \n",
       "53594                                        BOYLSTON ST  42.352312   \n",
       "\n",
       "            Long                                 Location  \n",
       "19    -71.075554  (42.34563477312553, -71.07555366997444)  \n",
       "48    -71.006282   (42.39096597337996, -71.0062820377725)  \n",
       "73    -71.058524  (42.35972136485405, -71.05852360114129)  \n",
       "74    -71.061327   (42.3626074984039, -71.06132725274803)  \n",
       "113     0.000000                                   (0, 0)  \n",
       "...          ...                                      ...  \n",
       "53552 -71.080148              (42.34932471, -71.08014801)  \n",
       "53554 -71.080148              (42.34932471, -71.08014801)  \n",
       "53591 -71.063705              (42.35231190, -71.06370510)  \n",
       "53593 -71.063705              (42.35231190, -71.06370510)  \n",
       "53594 -71.063705              (42.35231190, -71.06370510)  \n",
       "\n",
       "[431237 rows x 17 columns]"
      ]
     },
     "execution_count": 29,
     "metadata": {},
     "output_type": "execute_result"
    }
   ],
   "source": [
    "df[df['OFFENSE_DESCRIPTION'].str.contains('DRUGS')]"
   ]
  },
  {
   "cell_type": "code",
   "execution_count": 28,
   "metadata": {},
   "outputs": [
    {
     "data": {
      "text/plain": [
       "WASHINGTON ST                                           12416\n",
       "W BROADWAY                                              12288\n",
       "BLUE HILL AVE                                           10880\n",
       "SOUTHAMPTON ST                                           6400\n",
       "HANCOCK ST                                               6144\n",
       "                                                        ...  \n",
       "COLUMBIA RD & DUDLEY ST\\nDORCHESTER  MA 02125\\nUNITE      128\n",
       "ADAMS ST & DUDLEY ST\\nROXBURY  MA 02119\\nUNITED STAT      128\n",
       "GROVE HALL MECCA                                          128\n",
       "CROSS ST & READVILLE ST\\nHYDE PARK  MA 02136\\nUNITED      128\n",
       "MUSIC HALL PLACE                                          128\n",
       "Name: STREET, Length: 474, dtype: int64"
      ]
     },
     "execution_count": 28,
     "metadata": {},
     "output_type": "execute_result"
    }
   ],
   "source": [
    "df[(df['OFFENSE_DESCRIPTION'].str.contains('DRUGS')) & (df['YEAR'] == 2022)]['STREET'].value_counts()"
   ]
  },
  {
   "cell_type": "code",
   "execution_count": 21,
   "metadata": {},
   "outputs": [
    {
     "data": {
      "text/plain": [
       "0        2022\n",
       "1        2022\n",
       "2        2022\n",
       "3        2022\n",
       "4        2022\n",
       "         ... \n",
       "53592    2015\n",
       "53593    2015\n",
       "53594    2015\n",
       "53595    2015\n",
       "53596    2015\n",
       "Name: YEAR, Length: 17417681, dtype: int64"
      ]
     },
     "execution_count": 21,
     "metadata": {},
     "output_type": "execute_result"
    }
   ],
   "source": [
    "df['YEAR']"
   ]
  },
  {
   "cell_type": "code",
   "execution_count": 40,
   "metadata": {},
   "outputs": [
    {
     "name": "stdout",
     "output_type": "stream",
     "text": [
      "279.35290160430094 km\n"
     ]
    }
   ],
   "source": [
    "import geopy.distance\n",
    "\n",
    "coords_1 = (52.2296756, 21.0122287)\n",
    "coords_2 = (52.406374, 16.9251681)\n",
    "\n",
    "print(geopy.distance.geodesic(coords_1, coords_2))"
   ]
  },
  {
   "cell_type": "code",
   "execution_count": 41,
   "metadata": {},
   "outputs": [
    {
     "name": "stdout",
     "output_type": "stream",
     "text": [
      "279.35290160430094 km\n"
     ]
    }
   ],
   "source": [
    "print(geopy.distance.geodesic(coords_1, coords_2))"
   ]
  },
  {
   "cell_type": "code",
   "execution_count": 42,
   "metadata": {},
   "outputs": [
    {
     "data": {
      "text/plain": [
       "Index(['INCIDENT_NUMBER', 'OFFENSE_CODE', 'OFFENSE_CODE_GROUP',\n",
       "       'OFFENSE_DESCRIPTION', 'DISTRICT', 'REPORTING_AREA', 'SHOOTING',\n",
       "       'OCCURRED_ON_DATE', 'YEAR', 'MONTH', 'DAY_OF_WEEK', 'HOUR', 'UCR_PART',\n",
       "       'STREET', 'Lat', 'Long', 'Location'],\n",
       "      dtype='object')"
      ]
     },
     "execution_count": 42,
     "metadata": {},
     "output_type": "execute_result"
    }
   ],
   "source": [
    "df.columns"
   ]
  },
  {
   "cell_type": "code",
   "execution_count": null,
   "metadata": {},
   "outputs": [],
   "source": [
    "df[(df['YEAR'] == 2022) | (df['YEAR'] == 2021)]"
   ]
  },
  {
   "cell_type": "code",
   "execution_count": 17,
   "metadata": {},
   "outputs": [],
   "source": [
    "import requests\n",
    "import urllib.parse\n",
    "\n",
    "def return_lat_long(address):\n",
    "    url = 'https://nominatim.openstreetmap.org/search/' + urllib.parse.quote(address) +'?format=json'\n",
    "    response = requests.get(url).json()\n",
    "    #print(response)\n",
    "    return (response[0][\"lat\"] , response[0][\"lon\"])\n",
    "\n",
    "import googlemaps\n",
    "gmaps = googlemaps.Client(key='Insert your Key')\n",
    "start = (42.34370235,-71.0626709483899)\n",
    "end   = return_lat_long(address = '25 Thomson Pl, Boston, MA 02210')\n",
    "\n",
    "def get_directions(start,end,mode):\n",
    "    return gmaps.directions(start, end,'walking',alternatives= True)"
   ]
  },
  {
   "cell_type": "code",
   "execution_count": 18,
   "metadata": {},
   "outputs": [
    {
     "data": {
      "text/plain": [
       "('42.3509722', '-71.04730387021813')"
      ]
     },
     "execution_count": 18,
     "metadata": {},
     "output_type": "execute_result"
    }
   ],
   "source": [
    "return_lat_long('25 Thomson Pl, Boston, MA 02210')"
   ]
  },
  {
   "cell_type": "code",
   "execution_count": 62,
   "metadata": {},
   "outputs": [],
   "source": []
  },
  {
   "cell_type": "code",
   "execution_count": 64,
   "metadata": {},
   "outputs": [
    {
     "data": {
      "text/plain": [
       "3"
      ]
     },
     "execution_count": 64,
     "metadata": {},
     "output_type": "execute_result"
    }
   ],
   "source": [
    "len(dirs)"
   ]
  },
  {
   "cell_type": "code",
   "execution_count": 48,
   "metadata": {},
   "outputs": [
    {
     "name": "stdout",
     "output_type": "stream",
     "text": [
      "0 distance\n",
      "1 duration\n",
      "2 end_address\n",
      "3 end_location\n",
      "4 start_address\n",
      "5 start_location\n",
      "6 steps\n",
      "7 traffic_speed_entry\n",
      "8 via_waypoint\n"
     ]
    }
   ],
   "source": [
    "for i,j in enumerate(dirs[0]['legs'][0]):\n",
    "    print(i,j)"
   ]
  },
  {
   "cell_type": "code",
   "execution_count": 61,
   "metadata": {},
   "outputs": [
    {
     "data": {
      "text/plain": [
       "{'distance': {'text': '371 ft', 'value': 113},\n",
       " 'duration': {'text': '1 min', 'value': 86},\n",
       " 'end_location': {'lat': 42.3510594, 'lng': -71.0475057},\n",
       " 'html_instructions': 'Turn <b>left</b> onto <b>Thomson Pl</b><div style=\"font-size:0.9em\">Destination will be on the right</div>',\n",
       " 'maneuver': 'turn-left',\n",
       " 'polyline': {'points': 'gpnaGxqspLq@e@MMECEEQEEKw@k@'},\n",
       " 'start_location': {'lat': 42.3502818, 'lng': -71.0481324},\n",
       " 'travel_mode': 'WALKING'}"
      ]
     },
     "execution_count": 61,
     "metadata": {},
     "output_type": "execute_result"
    }
   ],
   "source": [
    "dirs[0]['legs'][0]['steps'][4]"
   ]
  },
  {
   "cell_type": "code",
   "execution_count": null,
   "metadata": {},
   "outputs": [],
   "source": []
  }
 ],
 "metadata": {
  "kernelspec": {
   "display_name": "Python 3",
   "language": "python",
   "name": "python3"
  },
  "language_info": {
   "codemirror_mode": {
    "name": "ipython",
    "version": 3
   },
   "file_extension": ".py",
   "mimetype": "text/x-python",
   "name": "python",
   "nbconvert_exporter": "python",
   "pygments_lexer": "ipython3",
   "version": "3.7.0"
  }
 },
 "nbformat": 4,
 "nbformat_minor": 2
}
